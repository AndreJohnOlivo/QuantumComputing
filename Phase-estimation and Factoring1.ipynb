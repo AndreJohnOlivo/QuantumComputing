{
 "cells": [
  {
   "cell_type": "markdown",
   "metadata": {},
   "source": [
    "# Phase-estimation and Factoring (Continutation)"
   ]
  },
  {
   "cell_type": "code",
   "execution_count": 10,
   "metadata": {},
   "outputs": [],
   "source": [
    "from qiskit import QuantumCircuit, QuantumRegister, ClassicalRegister\n",
    "from qiskit.circuit.library import QFT\n",
    "\n",
    "def c_amod15(a):\n",
    "    \"\"\"\n",
    "    Controlled multiplication by a mod 15.\n",
    "    This is hard-coded for simplicity.\n",
    "    \"\"\"\n",
    "    if a not in [2, 4, 7, 8, 11, 13]:\n",
    "        raise ValueError(\"'a' must not have common factors with 15\")\n",
    "    U = QuantumCircuit(4)\n",
    "    if a in [2, 13]:\n",
    "        U.swap(2, 3)\n",
    "        U.swap(1, 2)\n",
    "        U.swap(0, 1)\n",
    "    if a in [7, 8]:\n",
    "        U.swap(0, 1)\n",
    "        U.swap(1, 2)\n",
    "        U.swap(2, 3)\n",
    "    if a in [4, 11]:\n",
    "        U.swap(1, 3)\n",
    "        U.swap(0, 2)\n",
    "    if a in [7, 11, 13]:\n",
    "        for q in range(4):\n",
    "            U.x(q)\n",
    "    U = U.to_gate()\n",
    "    U.name = f\"{a} mod 15\"\n",
    "    c_U = U.control()\n",
    "    return c_U"
   ]
  },
  {
   "cell_type": "code",
   "execution_count": 11,
   "metadata": {},
   "outputs": [],
   "source": [
    "def phase_estimation(\n",
    "        controlled_operation: QuantumCircuit,\n",
    "        psi_prep: QuantumCircuit,\n",
    "        precision: int\n",
    "    ):\n",
    "    \"\"\"\n",
    "    Carry out phase estimation on a simulator.\n",
    "    Args:\n",
    "        controlled_operation: The operation to perform phase estimation on,\n",
    "                              controlled by one qubit.\n",
    "        psi_prep: Circuit to prepare |ψ>\n",
    "        precision: Number of counting qubits to use\n",
    "    Returns:\n",
    "        float: Best guess for phase of U|ψ>\n",
    "    \"\"\"\n",
    "    control_register = QuantumRegister(precision)\n",
    "    output_register = ClassicalRegister(precision)\n",
    "\n",
    "    target_register = QuantumRegister(psi_prep.num_qubits)\n",
    "    qc = QuantumCircuit(control_register, target_register, output_register)\n",
    "\n",
    "    # Prepare |ψ>\n",
    "    qc.compose(psi_prep,\n",
    "               qubits=target_register,\n",
    "               inplace=True)\n",
    "\n",
    "    # Do phase estimation\n",
    "    for index, qubit in enumerate(control_register):\n",
    "        qc.h(qubit)\n",
    "        for _ in range(2**index):\n",
    "            qc.compose(\n",
    "                controlled_operation,\n",
    "                qubits=[qubit] + list(target_register),\n",
    "                inplace=True,\n",
    "            )\n",
    "\n",
    "    qc.compose(\n",
    "        QFT(precision, inverse=True),\n",
    "        qubits=control_register,\n",
    "        inplace=True\n",
    "    )\n",
    "\n",
    "    qc.measure(control_register, output_register)\n",
    "\n",
    "    measurement = Sampler().run(qc, shots=1).result().quasi_dists[0].popitem()[0]\n",
    "    return measurement / 2**precision"
   ]
  },
  {
   "cell_type": "code",
   "execution_count": 12,
   "metadata": {},
   "outputs": [
    {
     "data": {
      "text/html": [
       "<pre style=\"word-wrap: normal;white-space: pre;background: #fff0;line-height: 1.1;font-family: &quot;Courier New&quot;,Courier,monospace\">     ┌───┐\n",
       "q_0: ┤ X ├\n",
       "     └───┘\n",
       "q_1: ─────\n",
       "          \n",
       "q_2: ─────\n",
       "          \n",
       "q_3: ─────\n",
       "          </pre>"
      ],
      "text/plain": [
       "     ┌───┐\n",
       "q_0: ┤ X ├\n",
       "     └───┘\n",
       "q_1: ─────\n",
       "          \n",
       "q_2: ─────\n",
       "          \n",
       "q_3: ─────\n",
       "          "
      ]
     },
     "metadata": {},
     "output_type": "display_data"
    }
   ],
   "source": [
    "psi_prep = QuantumCircuit(4)\n",
    "psi_prep.x(0)\n",
    "display(psi_prep.draw())"
   ]
  },
  {
   "cell_type": "code",
   "execution_count": 13,
   "metadata": {},
   "outputs": [
    {
     "name": "stdout",
     "output_type": "stream",
     "text": [
      "\n",
      "Attempt 1\n"
     ]
    },
    {
     "ename": "NameError",
     "evalue": "name 'Sampler' is not defined",
     "output_type": "error",
     "traceback": [
      "\u001b[1;31m---------------------------------------------------------------------------\u001b[0m",
      "\u001b[1;31mNameError\u001b[0m                                 Traceback (most recent call last)",
      "Cell \u001b[1;32mIn[13], line 13\u001b[0m\n\u001b[0;32m     10\u001b[0m ATTEMPT \u001b[38;5;241m+\u001b[39m\u001b[38;5;241m=\u001b[39m \u001b[38;5;241m1\u001b[39m\n\u001b[0;32m     11\u001b[0m \u001b[38;5;28mprint\u001b[39m(\u001b[38;5;124mf\u001b[39m\u001b[38;5;124m\"\u001b[39m\u001b[38;5;130;01m\\n\u001b[39;00m\u001b[38;5;124mAttempt \u001b[39m\u001b[38;5;132;01m{\u001b[39;00mATTEMPT\u001b[38;5;132;01m}\u001b[39;00m\u001b[38;5;124m\"\u001b[39m)\n\u001b[1;32m---> 13\u001b[0m phase \u001b[38;5;241m=\u001b[39m \u001b[43mphase_estimation\u001b[49m\u001b[43m(\u001b[49m\n\u001b[0;32m     14\u001b[0m \u001b[43m    \u001b[49m\u001b[43mc_amod15\u001b[49m\u001b[43m(\u001b[49m\u001b[43ma\u001b[49m\u001b[43m)\u001b[49m\u001b[43m,\u001b[49m\n\u001b[0;32m     15\u001b[0m \u001b[43m    \u001b[49m\u001b[43mpsi_prep\u001b[49m\u001b[43m,\u001b[49m\n\u001b[0;32m     16\u001b[0m \u001b[43m    \u001b[49m\u001b[43mprecision\u001b[49m\u001b[38;5;241;43m=\u001b[39;49m\u001b[38;5;241;43m8\u001b[39;49m\n\u001b[0;32m     17\u001b[0m \u001b[43m\u001b[49m\u001b[43m)\u001b[49m\n\u001b[0;32m     18\u001b[0m frac \u001b[38;5;241m=\u001b[39m Fraction(phase)\u001b[38;5;241m.\u001b[39mlimit_denominator(N)\n\u001b[0;32m     19\u001b[0m r \u001b[38;5;241m=\u001b[39m frac\u001b[38;5;241m.\u001b[39mdenominator\n",
      "Cell \u001b[1;32mIn[11], line 45\u001b[0m, in \u001b[0;36mphase_estimation\u001b[1;34m(controlled_operation, psi_prep, precision)\u001b[0m\n\u001b[0;32m     37\u001b[0m qc\u001b[38;5;241m.\u001b[39mcompose(\n\u001b[0;32m     38\u001b[0m     QFT(precision, inverse\u001b[38;5;241m=\u001b[39m\u001b[38;5;28;01mTrue\u001b[39;00m),\n\u001b[0;32m     39\u001b[0m     qubits\u001b[38;5;241m=\u001b[39mcontrol_register,\n\u001b[0;32m     40\u001b[0m     inplace\u001b[38;5;241m=\u001b[39m\u001b[38;5;28;01mTrue\u001b[39;00m\n\u001b[0;32m     41\u001b[0m )\n\u001b[0;32m     43\u001b[0m qc\u001b[38;5;241m.\u001b[39mmeasure(control_register, output_register)\n\u001b[1;32m---> 45\u001b[0m measurement \u001b[38;5;241m=\u001b[39m \u001b[43mSampler\u001b[49m()\u001b[38;5;241m.\u001b[39mrun(qc, shots\u001b[38;5;241m=\u001b[39m\u001b[38;5;241m1\u001b[39m)\u001b[38;5;241m.\u001b[39mresult()\u001b[38;5;241m.\u001b[39mquasi_dists[\u001b[38;5;241m0\u001b[39m]\u001b[38;5;241m.\u001b[39mpopitem()[\u001b[38;5;241m0\u001b[39m]\n\u001b[0;32m     46\u001b[0m \u001b[38;5;28;01mreturn\u001b[39;00m measurement \u001b[38;5;241m/\u001b[39m \u001b[38;5;241m2\u001b[39m\u001b[38;5;241m*\u001b[39m\u001b[38;5;241m*\u001b[39mprecision\n",
      "\u001b[1;31mNameError\u001b[0m: name 'Sampler' is not defined"
     ]
    }
   ],
   "source": [
    "from fractions import Fraction\n",
    "from math import gcd\n",
    "\n",
    "a = 8\n",
    "N = 15\n",
    "\n",
    "FACTOR_FOUND = False\n",
    "ATTEMPT = 0\n",
    "while not FACTOR_FOUND:\n",
    "    ATTEMPT += 1\n",
    "    print(f\"\\nAttempt {ATTEMPT}\")\n",
    "\n",
    "    phase = phase_estimation(\n",
    "        c_amod15(a)\n",
    "    )\n",
    "    frac = Fraction(phase).limit_denominator(N)\n",
    "    r = frac.denominator\n",
    "    if phase != 0:\n",
    "        # Guess for a factor is gcd(x^{r/2} - 1 , 15)\n",
    "        guess = gcd(a ** (r // 2) - 1, N)\n",
    "        if guess not in [1, N] and (N % guess) == 0:\n",
    "            # Guess is a factor!\n",
    "            print(f\"Non-trivial factor found: {guess}\")\n",
    "            FACTOR_FOUND = True"
   ]
  },
  {
   "cell_type": "code",
   "execution_count": null,
   "metadata": {},
   "outputs": [],
   "source": []
  }
 ],
 "metadata": {
  "kernelspec": {
   "display_name": "QuantumTestAndre",
   "language": "python",
   "name": "python3"
  },
  "language_info": {
   "codemirror_mode": {
    "name": "ipython",
    "version": 3
   },
   "file_extension": ".py",
   "mimetype": "text/x-python",
   "name": "python",
   "nbconvert_exporter": "python",
   "pygments_lexer": "ipython3",
   "version": "3.12.3"
  }
 },
 "nbformat": 4,
 "nbformat_minor": 2
}
