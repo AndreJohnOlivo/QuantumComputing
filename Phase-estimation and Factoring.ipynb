{
 "cells": [
  {
   "cell_type": "markdown",
   "metadata": {},
   "source": [
    "# Phase-estimation and Factoring"
   ]
  },
  {
   "cell_type": "code",
   "execution_count": 18,
   "metadata": {},
   "outputs": [
    {
     "data": {
      "text/latex": [
       "$$\n",
       "\n",
       "\\begin{bmatrix}\n",
       "\\frac{\\sqrt{2}}{2} & \\frac{\\sqrt{2}}{2}  \\\\\n",
       " \\frac{\\sqrt{2}}{2} & - \\frac{\\sqrt{2}}{2}  \\\\\n",
       " \\end{bmatrix}\n",
       "$$"
      ],
      "text/plain": [
       "<IPython.core.display.Latex object>"
      ]
     },
     "metadata": {},
     "output_type": "display_data"
    }
   ],
   "source": [
    "from qiskit.visualization import array_to_latex\n",
    "from qiskit.quantum_info import Statevector\n",
    "from qiskit.quantum_info.operators import Operator\n",
    "import math\n",
    "\n",
    "psi1 = Statevector([math.cos(math.pi / 8), math.sin(math.pi / 8), ])\n",
    "psi2 = Statevector([math.cos(5 * math.pi / 8), math.sin(5 * math.pi / 8)])\n",
    "\n",
    "H = Operator(psi1) - Operator(psi2)\n",
    "\n",
    "display(array_to_latex(H))"
   ]
  },
  {
   "cell_type": "code",
   "execution_count": 19,
   "metadata": {},
   "outputs": [
    {
     "data": {
      "text/html": [
       "<pre style=\"word-wrap: normal;white-space: pre;background: #fff0;line-height: 1.1;font-family: &quot;Courier New&quot;,Courier,monospace\">           ░ ┌───┐          ┌───┐ ░ ┌─┐\n",
       "q_0: ──────░─┤ H ├─■────────┤ H ├─░─┤M├\n",
       "     ┌───┐ ░ └───┘ │P(7π/5) └───┘ ░ └╥┘\n",
       "q_1: ┤ X ├─░───────■──────────────░──╫─\n",
       "     └───┘ ░                      ░  ║ \n",
       "c: 1/════════════════════════════════╩═\n",
       "                                     0 </pre>"
      ],
      "text/plain": [
       "           ░ ┌───┐          ┌───┐ ░ ┌─┐\n",
       "q_0: ──────░─┤ H ├─■────────┤ H ├─░─┤M├\n",
       "     ┌───┐ ░ └───┘ │P(7π/5) └───┘ ░ └╥┘\n",
       "q_1: ┤ X ├─░───────■──────────────░──╫─\n",
       "     └───┘ ░                      ░  ║ \n",
       "c: 1/════════════════════════════════╩═\n",
       "                                     0 "
      ]
     },
     "metadata": {},
     "output_type": "display_data"
    }
   ],
   "source": [
    "from math import pi, cos, sin\n",
    "from qiskit import QuantumCircuit\n",
    "\n",
    "theta = 0.7\n",
    "\n",
    "qc = QuantumCircuit(2, 1)\n",
    "\n",
    "qc.x(1)\n",
    "qc.barrier()\n",
    "\n",
    "qc.h(0)\n",
    "qc.cp(2 * pi * theta, 0, 1)\n",
    "qc.h(0)\n",
    "qc.barrier()\n",
    "\n",
    "qc.measure(0, 0)\n",
    "\n",
    "display(qc.draw())"
   ]
  },
  {
   "cell_type": "code",
   "execution_count": 20,
   "metadata": {},
   "outputs": [
    {
     "data": {
      "text/plain": [
       "{0: 0.345491502812526, 1: 0.654508497187474}"
      ]
     },
     "metadata": {},
     "output_type": "display_data"
    }
   ],
   "source": [
    "from qiskit.primitives import Sampler\n",
    "\n",
    "display(Sampler().run(qc).result().quasi_dists[0])"
   ]
  },
  {
   "cell_type": "code",
   "execution_count": 21,
   "metadata": {},
   "outputs": [
    {
     "data": {
      "text/plain": [
       "{0: 0.34549150281252616, 1: 0.34549150281252616}"
      ]
     },
     "metadata": {},
     "output_type": "display_data"
    }
   ],
   "source": [
    "display({\n",
    "    0: cos(pi * theta) ** 2,\n",
    "    1: cos(pi * theta) ** 2\n",
    "})"
   ]
  },
  {
   "cell_type": "code",
   "execution_count": 22,
   "metadata": {},
   "outputs": [
    {
     "data": {
      "text/html": [
       "<pre style=\"word-wrap: normal;white-space: pre;background: #fff0;line-height: 1.1;font-family: &quot;Courier New&quot;,Courier,monospace\">           ░ ┌───┐ ░                       ░    ┌───┐               ┌─┐   \n",
       "q_0: ──────░─┤ H ├─░──■────────────────────░──X─┤ H ├─■─────────────┤M├───\n",
       "           ░ ├───┤ ░  │                    ░  │ └───┘ │P(-π/2) ┌───┐└╥┘┌─┐\n",
       "q_1: ──────░─┤ H ├─░──┼─────────■──────────░──X───────■────────┤ H ├─╫─┤M├\n",
       "     ┌───┐ ░ └───┘ ░  │P(7π/5)  │P(14π/5)  ░                   └───┘ ║ └╥┘\n",
       "q_2: ┤ X ├─░───────░──■─────────■──────────░─────────────────────────╫──╫─\n",
       "     └───┘ ░       ░                       ░                         ║  ║ \n",
       "c: 2/════════════════════════════════════════════════════════════════╩══╩═\n",
       "                                                                     0  1 </pre>"
      ],
      "text/plain": [
       "           ░ ┌───┐ ░                       ░    ┌───┐               ┌─┐   \n",
       "q_0: ──────░─┤ H ├─░──■────────────────────░──X─┤ H ├─■─────────────┤M├───\n",
       "           ░ ├───┤ ░  │                    ░  │ └───┘ │P(-π/2) ┌───┐└╥┘┌─┐\n",
       "q_1: ──────░─┤ H ├─░──┼─────────■──────────░──X───────■────────┤ H ├─╫─┤M├\n",
       "     ┌───┐ ░ └───┘ ░  │P(7π/5)  │P(14π/5)  ░                   └───┘ ║ └╥┘\n",
       "q_2: ┤ X ├─░───────░──■─────────■──────────░─────────────────────────╫──╫─\n",
       "     └───┘ ░       ░                       ░                         ║  ║ \n",
       "c: 2/════════════════════════════════════════════════════════════════╩══╩═\n",
       "                                                                     0  1 "
      ]
     },
     "metadata": {},
     "output_type": "display_data"
    }
   ],
   "source": [
    "from math import pi\n",
    "from qiskit import QuantumCircuit\n",
    "\n",
    "theta = 0.7\n",
    "qc = QuantumCircuit(3, 2)\n",
    "\n",
    "# Prepare the eigenvector\n",
    "qc.x(2)\n",
    "qc.barrier()\n",
    "\n",
    "# Initial Hadamard gates\n",
    "qc.h(0)\n",
    "qc.h(1)\n",
    "qc.barrier()\n",
    "\n",
    "# Controlled Unitary Gates\n",
    "qc.cp(2 * pi * theta, 0, 2)\n",
    "qc.cp(2 * pi * (2 * theta), 1, 2)\n",
    "qc.barrier()\n",
    "\n",
    "# Implementation of the inverse of the Two-qubit QFT\n",
    "qc.swap(0, 1)\n",
    "qc.h(0)\n",
    "qc.cp(-pi / 2, 0, 1)\n",
    "qc.h(1)\n",
    "qc.barrier\n",
    "\n",
    "# Measurements\n",
    "qc.measure([0, 1], [0, 1])\n",
    "display(qc.draw())\n"
   ]
  },
  {
   "cell_type": "code",
   "execution_count": 23,
   "metadata": {},
   "outputs": [
    {
     "data": {
      "image/png": "[encoded data removed]",
      "text/plain": [
       "<Figure size 640x480 with 1 Axes>"
      ]
     },
     "metadata": {},
     "output_type": "display_data"
    }
   ],
   "source": [
    "from qiskit.visualization import plot_histogram\n",
    "\n",
    "result = Sampler().run(qc).result()\n",
    "display(plot_histogram(result.quasi_dists))"
   ]
  },
  {
   "cell_type": "code",
   "execution_count": 24,
   "metadata": {},
   "outputs": [
    {
     "data": {
      "text/html": [
       "<pre style=\"word-wrap: normal;white-space: pre;background: #fff0;line-height: 1.1;font-family: &quot;Courier New&quot;,Courier,monospace\">                                                                          ┌───┐»\n",
       "q_0: ──────────────────────────────────────■─────────────■────────■───────┤ H ├»\n",
       "                                           │       ┌───┐ │        │P(π/2) └───┘»\n",
       "q_1: ────────────────────■────────■────────┼───────┤ H ├─┼────────■─────────X──»\n",
       "                   ┌───┐ │        │P(π/2)  │       └───┘ │P(π/4)            │  »\n",
       "q_2: ──────■───────┤ H ├─┼────────■────────┼─────────────■──────────────────X──»\n",
       "     ┌───┐ │P(π/2) └───┘ │P(π/4)           │P(π/8)                             »\n",
       "q_3: ┤ H ├─■─────────────■─────────────────■───────────────────────────────────»\n",
       "     └───┘                                                                     »\n",
       "«        \n",
       "«q_0: ─X─\n",
       "«      │ \n",
       "«q_1: ─┼─\n",
       "«      │ \n",
       "«q_2: ─┼─\n",
       "«      │ \n",
       "«q_3: ─X─\n",
       "«        </pre>"
      ],
      "text/plain": [
       "                                                                          ┌───┐»\n",
       "q_0: ──────────────────────────────────────■─────────────■────────■───────┤ H ├»\n",
       "                                           │       ┌───┐ │        │P(π/2) └───┘»\n",
       "q_1: ────────────────────■────────■────────┼───────┤ H ├─┼────────■─────────X──»\n",
       "                   ┌───┐ │        │P(π/2)  │       └───┘ │P(π/4)            │  »\n",
       "q_2: ──────■───────┤ H ├─┼────────■────────┼─────────────■──────────────────X──»\n",
       "     ┌───┐ │P(π/2) └───┘ │P(π/4)           │P(π/8)                             »\n",
       "q_3: ┤ H ├─■─────────────■─────────────────■───────────────────────────────────»\n",
       "     └───┘                                                                     »\n",
       "«        \n",
       "«q_0: ─X─\n",
       "«      │ \n",
       "«q_1: ─┼─\n",
       "«      │ \n",
       "«q_2: ─┼─\n",
       "«      │ \n",
       "«q_3: ─X─\n",
       "«        "
      ]
     },
     "metadata": {},
     "output_type": "display_data"
    }
   ],
   "source": [
    "from qiskit.circuit.library import QFT\n",
    "\n",
    "display(QFT(4).decompose().draw())"
   ]
  },
  {
   "cell_type": "code",
   "execution_count": 28,
   "metadata": {},
   "outputs": [
    {
     "data": {
      "text/html": [
       "<pre style=\"word-wrap: normal;white-space: pre;background: #fff0;line-height: 1.1;font-family: &quot;Courier New&quot;,Courier,monospace\">                 ░ ┌───┐                                                  »\n",
       "Control_0: ──────░─┤ H ├─■────────────────────────────────────────────────»\n",
       "                 ░ ├───┤ │                                                »\n",
       "Control_1: ──────░─┤ H ├─┼─────────■─────────■────────────────────────────»\n",
       "                 ░ ├───┤ │         │         │                            »\n",
       "Control_2: ──────░─┤ H ├─┼─────────┼─────────┼─────────■─────────■────────»\n",
       "           ┌───┐ ░ └───┘ │P(7π/5)  │P(7π/5)  │P(7π/5)  │P(7π/5)  │P(7π/5) »\n",
       "      |ψ>: ┤ X ├─░───────■─────────■─────────■─────────■─────────■────────»\n",
       "           └───┘ ░                                                        »\n",
       " Result: 3/═══════════════════════════════════════════════════════════════»\n",
       "                                                                          »\n",
       "«                                ░ ┌──────────┐┌─┐      \n",
       "«Control_0: ─────────────────────░─┤0         ├┤M├──────\n",
       "«                                ░ │          │└╥┘┌─┐   \n",
       "«Control_1: ─────────────────────░─┤1 IQFT_dg ├─╫─┤M├───\n",
       "«                                ░ │          │ ║ └╥┘┌─┐\n",
       "«Control_2: ─■─────────■─────────░─┤2         ├─╫──╫─┤M├\n",
       "«            │P(7π/5)  │P(7π/5)  ░ └──────────┘ ║  ║ └╥┘\n",
       "«      |ψ>: ─■─────────■─────────░──────────────╫──╫──╫─\n",
       "«                                ░              ║  ║  ║ \n",
       "« Result: 3/════════════════════════════════════╩══╩══╩═\n",
       "«                                               0  1  2 </pre>"
      ],
      "text/plain": [
       "                 ░ ┌───┐                                                  »\n",
       "Control_0: ──────░─┤ H ├─■────────────────────────────────────────────────»\n",
       "                 ░ ├───┤ │                                                »\n",
       "Control_1: ──────░─┤ H ├─┼─────────■─────────■────────────────────────────»\n",
       "                 ░ ├───┤ │         │         │                            »\n",
       "Control_2: ──────░─┤ H ├─┼─────────┼─────────┼─────────■─────────■────────»\n",
       "           ┌───┐ ░ └───┘ │P(7π/5)  │P(7π/5)  │P(7π/5)  │P(7π/5)  │P(7π/5) »\n",
       "      |ψ>: ┤ X ├─░───────■─────────■─────────■─────────■─────────■────────»\n",
       "           └───┘ ░                                                        »\n",
       " Result: 3/═══════════════════════════════════════════════════════════════»\n",
       "                                                                          »\n",
       "«                                ░ ┌──────────┐┌─┐      \n",
       "«Control_0: ─────────────────────░─┤0         ├┤M├──────\n",
       "«                                ░ │          │└╥┘┌─┐   \n",
       "«Control_1: ─────────────────────░─┤1 IQFT_dg ├─╫─┤M├───\n",
       "«                                ░ │          │ ║ └╥┘┌─┐\n",
       "«Control_2: ─■─────────■─────────░─┤2         ├─╫──╫─┤M├\n",
       "«            │P(7π/5)  │P(7π/5)  ░ └──────────┘ ║  ║ └╥┘\n",
       "«      |ψ>: ─■─────────■─────────░──────────────╫──╫──╫─\n",
       "«                                ░              ║  ║  ║ \n",
       "« Result: 3/════════════════════════════════════╩══╩══╩═\n",
       "«                                               0  1  2 "
      ]
     },
     "metadata": {},
     "output_type": "display_data"
    }
   ],
   "source": [
    "from qiskit import QuantumCircuit, QuantumRegister, ClassicalRegister\n",
    "from qiskit.circuit.library import QFT\n",
    "\n",
    "theta = 0.7\n",
    "m = 3  # Number of control qubits\n",
    "\n",
    "control_register = QuantumRegister(m, name=\"Control\")\n",
    "target_register = QuantumRegister(1, name=\"|ψ>\")\n",
    "output_register = ClassicalRegister(m, name=\"Result\")\n",
    "qc = QuantumCircuit(control_register, target_register, output_register)\n",
    "\n",
    "# Prepare the eigenvector |ψ>\n",
    "qc.x(target_register)\n",
    "qc.barrier()\n",
    "\n",
    "# Perform phase estimation\n",
    "for index, qubit in enumerate(control_register):\n",
    "    qc.h(qubit)\n",
    "    for _ in range(2**index):\n",
    "        qc.cp(2 * pi * theta, qubit, target_register)\n",
    "qc.barrier()\n",
    "\n",
    "# Do inverse quantum Fourier transform\n",
    "qc.compose(\n",
    "    QFT(m, inverse=True),\n",
    "    inplace=True\n",
    ")\n",
    "\n",
    "# Measure everything\n",
    "qc.measure(range(m), range(m))\n",
    "display(qc.draw())"
   ]
  },
  {
   "cell_type": "code",
   "execution_count": 29,
   "metadata": {},
   "outputs": [
    {
     "data": {
      "image/png": "[encoded data removed]",
      "text/plain": [
       "<Figure size 640x480 with 1 Axes>"
      ]
     },
     "metadata": {},
     "output_type": "display_data"
    }
   ],
   "source": [
    "result = Sampler().run(qc).result()\n",
    "display(plot_histogram(result.quasi_dists))"
   ]
  },
  {
   "cell_type": "code",
   "execution_count": 30,
   "metadata": {},
   "outputs": [
    {
     "name": "stdout",
     "output_type": "stream",
     "text": [
      "Most probable output: 6\n",
      "Estimated Theta: 0.75\n"
     ]
    }
   ],
   "source": [
    "most_probable = max(result.quasi_dists[0], key=result.quasi_dists[0].get)\n",
    "\n",
    "print(f\"Most probable output: {most_probable}\")\n",
    "print(f\"Estimated Theta: {most_probable/2**m}\")"
   ]
  },
  {
   "cell_type": "code",
   "execution_count": 36,
   "metadata": {},
   "outputs": [
    {
     "name": "stdout",
     "output_type": "stream",
     "text": [
      "k \t a^k \n",
      "\n",
      "21 \t 218\n",
      "22 \t 29\n",
      "23 \t 215\n",
      "24 \t 218\n",
      "25 \t 29\n",
      "26 \t 215\n",
      "27 \t 218\n",
      "28 \t 29\n",
      "29 \t 215\n",
      "210 \t 218\n",
      "211 \t 29\n",
      "212 \t 215\n"
     ]
    }
   ],
   "source": [
    "N = 21\n",
    "a = 18\n",
    "max_power = 12\n",
    "\n",
    "print(\"k \\t a^k \\n\")\n",
    "for k in range(1, max_power + 1):\n",
    "    print(\n",
    "        \"2%d \\t 2%d\" % (k, a**k % N)\n",
    "    )"
   ]
  },
  {
   "cell_type": "code",
   "execution_count": 38,
   "metadata": {},
   "outputs": [],
   "source": [
    "def c_amod15(a):\n",
    "    \"\"\"\n",
    "    Controlled Multiplication by a mod 15\n",
    "    This is hard-coded for simplicity\n",
    "    \"\"\"\n",
    "    if a not in [2, 4, 7, 8, 11, 13]:\n",
    "        raise ValueError(\"'a' must not have common factors with 15.\")\n",
    "    U = QuantumCircuit(4)\n",
    "    if a in [2, 13]:\n",
    "        U.swap(2, 3)\n",
    "        U.swap(1, 2)\n",
    "        U.swap(0, 1)\n",
    "    if a in [7, 8]:\n",
    "        U.swap(0, 1)\n",
    "        U.swap(1, 2)\n",
    "        U.swap(2, 3)\n",
    "    if a in [4, 11]:\n",
    "        U.swap(1, 3)\n",
    "        U.swap(0, 2)\n",
    "    if a in [7, 11, 13]:\n",
    "        for q in range(4):\n",
    "            U.x(q)\n",
    "    U = U.to_gate()\n",
    "    U.name = f\"{a} mod 15\"\n",
    "    c_U = U.control()\n",
    "    return c_U\n"
   ]
  },
  {
   "cell_type": "code",
   "execution_count": 39,
   "metadata": {},
   "outputs": [],
   "source": [
    "def phase_estimation(\n",
    "        controlled_operation: QuantumCircuit,\n",
    "        psi_prep: QuantumCircuit,\n",
    "        precision: int\n",
    "):\n",
    "    \"\"\"\n",
    "    Carry out phase estimation on a simulator.\n",
    "    Args:\n",
    "        controlled_operation: The operation to perform phase estimation on,\n",
    "                              controlled by one qubit.\n",
    "        psi_prep: Circuit to prepare |ψ>\n",
    "        precision: Number of counting qubits to use\n",
    "    Returns:\n",
    "        float: Best guess for phase of U|ψ>\n",
    "    \"\"\"\n",
    "    control_register = QuantumRegister(precision)\n",
    "    output_register = QuantumRegister(precision)\n",
    "\n",
    "    target_register = QuantumRegister(psi_prep.num_qubits)\n",
    "    qc = QuantumCircuit(control_register, target_register, output_register)\n",
    "\n",
    "    qc.compose(psi_prep,\n",
    "               qubits=target_register,\n",
    "               inplace=True)\n",
    "    \n",
    "    # Phase estimation\n",
    "    for index, qubit in enumerate(control_register):\n",
    "        qc.h(qubit)\n",
    "        for _ in range(2**index):\n",
    "            qc.compose(\n",
    "                controlled_operation,\n",
    "                qubits=[qubit] + list(target_register),\n",
    "                inplace=True\n",
    "            )\n",
    "    \n",
    "    qc.compose(\n",
    "        QFT(precision, inverse=True),\n",
    "        qubits=control_register,\n",
    "        inplace=True\n",
    "    )\n",
    "\n",
    "    qc.measure(control_register, output_register)\n",
    "\n",
    "    measurement = Sampler().run(qc, shots=1).result().quasi_dists[0].popitem()[0]\n",
    "    return measurement / 2**precision"
   ]
  },
  {
   "cell_type": "code",
   "execution_count": 40,
   "metadata": {},
   "outputs": [
    {
     "data": {
      "text/html": [
       "<pre style=\"word-wrap: normal;white-space: pre;background: #fff0;line-height: 1.1;font-family: &quot;Courier New&quot;,Courier,monospace\">     ┌───┐\n",
       "q_0: ┤ X ├\n",
       "     └───┘\n",
       "q_1: ─────\n",
       "          \n",
       "q_2: ─────\n",
       "          \n",
       "q_3: ─────\n",
       "          </pre>"
      ],
      "text/plain": [
       "     ┌───┐\n",
       "q_0: ┤ X ├\n",
       "     └───┘\n",
       "q_1: ─────\n",
       "          \n",
       "q_2: ─────\n",
       "          \n",
       "q_3: ─────\n",
       "          "
      ]
     },
     "metadata": {},
     "output_type": "display_data"
    }
   ],
   "source": [
    "psi_prep = QuantumCircuit(4)\n",
    "psi_prep.x(0)\n",
    "display(psi_prep.draw())"
   ]
  }
 ],
 "metadata": {
  "kernelspec": {
   "display_name": "QuantumTestAndre",
   "language": "python",
   "name": "python3"
  },
  "language_info": {
   "codemirror_mode": {
    "name": "ipython",
    "version": 3
   },
   "file_extension": ".py",
   "mimetype": "text/x-python",
   "name": "python",
   "nbconvert_exporter": "python",
   "pygments_lexer": "ipython3",
   "version": "3.12.3"
  }
 },
 "nbformat": 4,
 "nbformat_minor": 2
}
