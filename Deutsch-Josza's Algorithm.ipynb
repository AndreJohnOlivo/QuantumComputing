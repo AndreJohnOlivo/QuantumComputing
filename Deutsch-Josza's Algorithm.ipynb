{
 "cells": [
  {
   "cell_type": "markdown",
   "metadata": {},
   "source": [
    "# Deutsch-Josza's Algotritm"
   ]
  },
  {
   "cell_type": "code",
   "execution_count": 16,
   "metadata": {},
   "outputs": [],
   "source": [
    "from qiskit import QuantumCircuit\n",
    "import numpy as np\n",
    "\n",
    "def dj_function(num_qubits):\n",
    "    \"\"\"\"\n",
    "    Create a random DJ function\n",
    "    \"\"\"\n",
    "\n",
    "    qc = QuantumCircuit(num_qubits + 1)\n",
    "    if np.random.randint(0, 2):\n",
    "        # Flip output qubit with 50% chance\n",
    "        qc.x(num_qubits)\n",
    "    if np.random.randint(0, 2):\n",
    "        # Return constant circuit with a 50% chance\n",
    "        return qc\n",
    "    \n",
    "    on_states = np.random.choice(\n",
    "        range(2**num_qubits),\n",
    "        2**num_qubits // 2,\n",
    "        replace=False,\n",
    "    )\n",
    "\n",
    "    def add_cx(qc, bit_string):\n",
    "        for qubit, bit in enumerate(reversed(bit_string)):\n",
    "            if bit == \"1\":\n",
    "                qc.x(qubit)\n",
    "        return qc\n",
    "    \n",
    "    for state in on_states:\n",
    "        qc.barrier() # Barrier to help for visuzalization\n",
    "        qc = add_cx(qc, f\"{state:0b}\")\n",
    "        qc.mcx(list(range(num_qubits)), num_qubits)\n",
    "        qc = add_cx(qc, f\"{state:0b}\")\n",
    "\n",
    "    qc.barrier()\n",
    "\n",
    "    return qc"
   ]
  },
  {
   "cell_type": "code",
   "execution_count": 17,
   "metadata": {},
   "outputs": [
    {
     "data": {
      "text/html": [
       "<pre style=\"word-wrap: normal;white-space: pre;background: #fff0;line-height: 1.1;font-family: &quot;Courier New&quot;,Courier,monospace\">          \n",
       "q_0: ─────\n",
       "          \n",
       "q_1: ─────\n",
       "          \n",
       "q_2: ─────\n",
       "     ┌───┐\n",
       "q_3: ┤ X ├\n",
       "     └───┘</pre>"
      ],
      "text/plain": [
       "          \n",
       "q_0: ─────\n",
       "          \n",
       "q_1: ─────\n",
       "          \n",
       "q_2: ─────\n",
       "     ┌───┐\n",
       "q_3: ┤ X ├\n",
       "     └───┘"
      ]
     },
     "metadata": {},
     "output_type": "display_data"
    }
   ],
   "source": [
    "display(dj_function(3).draw())"
   ]
  },
  {
   "cell_type": "code",
   "execution_count": 18,
   "metadata": {},
   "outputs": [],
   "source": [
    "def compile_circuit(function: QuantumCircuit):\n",
    "    \"\"\"\n",
    "    Compiles a circuit for use in DJ Algorithm\n",
    "    \"\"\"\n",
    "    n = function.num_qubits - 1\n",
    "    qc = QuantumCircuit(n + 1, n)\n",
    "    qc.x(n)\n",
    "    qc.h(range(n + 1))\n",
    "    qc.compose(function, inplace=True)\n",
    "    qc.h(range(n))\n",
    "    qc.measure(range(n), range(n))\n",
    "    return qc"
   ]
  },
  {
   "cell_type": "code",
   "execution_count": 19,
   "metadata": {},
   "outputs": [],
   "source": [
    "from qiskit_aer import AerSimulator\n",
    "\n",
    "def dj_algorithm(function: QuantumCircuit):\n",
    "    \"\"\"\n",
    "    Determine if DJ function is Constant or Balanced\n",
    "    \"\"\"\n",
    "    qc = compile_circuit(function)\n",
    "\n",
    "    result = AerSimulator().run(qc, shots=1, memory=True).result()\n",
    "    measurements = result.get_memory()\n",
    "    if \"1\" in measurements[0]:\n",
    "        return \"balanced\"\n",
    "    return \"constant\"\n"
   ]
  },
  {
   "cell_type": "code",
   "execution_count": 20,
   "metadata": {},
   "outputs": [
    {
     "data": {
      "text/html": [
       "<pre style=\"word-wrap: normal;white-space: pre;background: #fff0;line-height: 1.1;font-family: &quot;Courier New&quot;,Courier,monospace\">           ░                 ░ ┌───┐     ┌───┐ ░ ┌───┐     ┌───┐ ░           »\n",
       "q_0: ──────░────────■────────░─┤ X ├──■──┤ X ├─░─┤ X ├──■──┤ X ├─░────────■──»\n",
       "           ░        │        ░ └───┘  │  └───┘ ░ ├───┤  │  ├───┤ ░ ┌───┐  │  »\n",
       "q_1: ──────░────────■────────░────────■────────░─┤ X ├──■──┤ X ├─░─┤ X ├──■──»\n",
       "           ░ ┌───┐  │  ┌───┐ ░ ┌───┐  │  ┌───┐ ░ ├───┤  │  ├───┤ ░ ├───┤  │  »\n",
       "q_2: ──────░─┤ X ├──■──┤ X ├─░─┤ X ├──■──┤ X ├─░─┤ X ├──■──┤ X ├─░─┤ X ├──■──»\n",
       "     ┌───┐ ░ └───┘┌─┴─┐└───┘ ░ └───┘┌─┴─┐└───┘ ░ └───┘┌─┴─┐└───┘ ░ └───┘┌─┴─┐»\n",
       "q_3: ┤ X ├─░──────┤ X ├──────░──────┤ X ├──────░──────┤ X ├──────░──────┤ X ├»\n",
       "     └───┘ ░      └───┘      ░      └───┘      ░      └───┘      ░      └───┘»\n",
       "«           ░ \n",
       "«q_0: ──────░─\n",
       "«     ┌───┐ ░ \n",
       "«q_1: ┤ X ├─░─\n",
       "«     ├───┤ ░ \n",
       "«q_2: ┤ X ├─░─\n",
       "«     └───┘ ░ \n",
       "«q_3: ──────░─\n",
       "«           ░ </pre>"
      ],
      "text/plain": [
       "           ░                 ░ ┌───┐     ┌───┐ ░ ┌───┐     ┌───┐ ░           »\n",
       "q_0: ──────░────────■────────░─┤ X ├──■──┤ X ├─░─┤ X ├──■──┤ X ├─░────────■──»\n",
       "           ░        │        ░ └───┘  │  └───┘ ░ ├───┤  │  ├───┤ ░ ┌───┐  │  »\n",
       "q_1: ──────░────────■────────░────────■────────░─┤ X ├──■──┤ X ├─░─┤ X ├──■──»\n",
       "           ░ ┌───┐  │  ┌───┐ ░ ┌───┐  │  ┌───┐ ░ ├───┤  │  ├───┤ ░ ├───┤  │  »\n",
       "q_2: ──────░─┤ X ├──■──┤ X ├─░─┤ X ├──■──┤ X ├─░─┤ X ├──■──┤ X ├─░─┤ X ├──■──»\n",
       "     ┌───┐ ░ └───┘┌─┴─┐└───┘ ░ └───┘┌─┴─┐└───┘ ░ └───┘┌─┴─┐└───┘ ░ └───┘┌─┴─┐»\n",
       "q_3: ┤ X ├─░──────┤ X ├──────░──────┤ X ├──────░──────┤ X ├──────░──────┤ X ├»\n",
       "     └───┘ ░      └───┘      ░      └───┘      ░      └───┘      ░      └───┘»\n",
       "«           ░ \n",
       "«q_0: ──────░─\n",
       "«     ┌───┐ ░ \n",
       "«q_1: ┤ X ├─░─\n",
       "«     ├───┤ ░ \n",
       "«q_2: ┤ X ├─░─\n",
       "«     └───┘ ░ \n",
       "«q_3: ──────░─\n",
       "«           ░ "
      ]
     },
     "metadata": {},
     "output_type": "display_data"
    },
    {
     "data": {
      "text/plain": [
       "'balanced'"
      ]
     },
     "metadata": {},
     "output_type": "display_data"
    }
   ],
   "source": [
    "f = dj_function(3)\n",
    "display(f.draw())\n",
    "display(dj_algorithm(f))"
   ]
  },
  {
   "cell_type": "code",
   "execution_count": 23,
   "metadata": {},
   "outputs": [
    {
     "data": {
      "text/html": [
       "<pre style=\"word-wrap: normal;white-space: pre;background: #fff0;line-height: 1.1;font-family: &quot;Courier New&quot;,Courier,monospace\">               \n",
       "q_0: ──■───────\n",
       "       │       \n",
       "q_1: ──┼───────\n",
       "       │       \n",
       "q_2: ──┼───────\n",
       "       │       \n",
       "q_3: ──┼────■──\n",
       "     ┌─┴─┐┌─┴─┐\n",
       "q_4: ┤ X ├┤ X ├\n",
       "     └───┘└───┘</pre>"
      ],
      "text/plain": [
       "               \n",
       "q_0: ──■───────\n",
       "       │       \n",
       "q_1: ──┼───────\n",
       "       │       \n",
       "q_2: ──┼───────\n",
       "       │       \n",
       "q_3: ──┼────■──\n",
       "     ┌─┴─┐┌─┴─┐\n",
       "q_4: ┤ X ├┤ X ├\n",
       "     └───┘└───┘"
      ]
     },
     "metadata": {},
     "output_type": "display_data"
    }
   ],
   "source": [
    "def bv_function(s):\n",
    "    \"\"\"\n",
    "    Create a Bernstein-Vazirani function from a string of 1s and 0s.\n",
    "    \"\"\"\n",
    "    qc = QuantumCircuit(len(s) + 1)\n",
    "    for index, bit in enumerate(reversed(s)):\n",
    "        if bit == \"1\":\n",
    "            qc.cx(index, len(s))\n",
    "    return qc\n",
    "\n",
    "display(bv_function(\"1001\").draw())"
   ]
  },
  {
   "cell_type": "code",
   "execution_count": 24,
   "metadata": {},
   "outputs": [
    {
     "data": {
      "text/plain": [
       "'1001'"
      ]
     },
     "metadata": {},
     "output_type": "display_data"
    }
   ],
   "source": [
    "def bv_algorithm(function: QuantumCircuit):\n",
    "    qc = compile_circuit(function)\n",
    "    result = AerSimulator().run(qc, shots=1, memory=True).result()\n",
    "    return result.get_memory()[0]\n",
    "\n",
    "display(bv_algorithm(bv_function(\"1001\")))"
   ]
  }
 ],
 "metadata": {
  "kernelspec": {
   "display_name": "QuantumTestAndre",
   "language": "python",
   "name": "python3"
  },
  "language_info": {
   "codemirror_mode": {
    "name": "ipython",
    "version": 3
   },
   "file_extension": ".py",
   "mimetype": "text/x-python",
   "name": "python",
   "nbconvert_exporter": "python",
   "pygments_lexer": "ipython3",
   "version": "3.12.3"
  }
 },
 "nbformat": 4,
 "nbformat_minor": 2
}
