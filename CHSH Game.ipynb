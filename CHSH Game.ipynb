{
 "cells": [
  {
   "cell_type": "markdown",
   "metadata": {},
   "source": [
    "# CHSH Game"
   ]
  },
  {
   "cell_type": "code",
   "execution_count": 6,
   "metadata": {},
   "outputs": [
    {
     "name": "stdout",
     "output_type": "stream",
     "text": [
      "(x, y) = (0, 0)\n"
     ]
    },
    {
     "data": {
      "text/html": [
       "<pre style=\"word-wrap: normal;white-space: pre;background: #fff0;line-height: 1.1;font-family: &quot;Courier New&quot;,Courier,monospace\">     ┌───┐      ░  ┌───────┐  ┌─┐   \n",
       "q_0: ┤ H ├──■───░──┤ Ry(0) ├──┤M├───\n",
       "     └───┘┌─┴─┐ ░ ┌┴───────┴─┐└╥┘┌─┐\n",
       "q_1: ─────┤ X ├─░─┤ Ry(-π/4) ├─╫─┤M├\n",
       "          └───┘ ░ └──────────┘ ║ └╥┘\n",
       "c: 2/══════════════════════════╩══╩═\n",
       "                               0  1 </pre>"
      ],
      "text/plain": [
       "     ┌───┐      ░  ┌───────┐  ┌─┐   \n",
       "q_0: ┤ H ├──■───░──┤ Ry(0) ├──┤M├───\n",
       "     └───┘┌─┴─┐ ░ ┌┴───────┴─┐└╥┘┌─┐\n",
       "q_1: ─────┤ X ├─░─┤ Ry(-π/4) ├─╫─┤M├\n",
       "          └───┘ ░ └──────────┘ ║ └╥┘\n",
       "c: 2/══════════════════════════╩══╩═\n",
       "                               0  1 "
      ]
     },
     "metadata": {},
     "output_type": "display_data"
    },
    {
     "name": "stdout",
     "output_type": "stream",
     "text": [
      "(x, y) = (0, 1)\n"
     ]
    },
    {
     "data": {
      "text/html": [
       "<pre style=\"word-wrap: normal;white-space: pre;background: #fff0;line-height: 1.1;font-family: &quot;Courier New&quot;,Courier,monospace\">     ┌───┐      ░  ┌───────┐ ┌─┐   \n",
       "q_0: ┤ H ├──■───░──┤ Ry(0) ├─┤M├───\n",
       "     └───┘┌─┴─┐ ░ ┌┴───────┴┐└╥┘┌─┐\n",
       "q_1: ─────┤ X ├─░─┤ Ry(π/4) ├─╫─┤M├\n",
       "          └───┘ ░ └─────────┘ ║ └╥┘\n",
       "c: 2/═════════════════════════╩══╩═\n",
       "                              0  1 </pre>"
      ],
      "text/plain": [
       "     ┌───┐      ░  ┌───────┐ ┌─┐   \n",
       "q_0: ┤ H ├──■───░──┤ Ry(0) ├─┤M├───\n",
       "     └───┘┌─┴─┐ ░ ┌┴───────┴┐└╥┘┌─┐\n",
       "q_1: ─────┤ X ├─░─┤ Ry(π/4) ├─╫─┤M├\n",
       "          └───┘ ░ └─────────┘ ║ └╥┘\n",
       "c: 2/═════════════════════════╩══╩═\n",
       "                              0  1 "
      ]
     },
     "metadata": {},
     "output_type": "display_data"
    },
    {
     "name": "stdout",
     "output_type": "stream",
     "text": [
      "(x, y) = (1, 0)\n"
     ]
    },
    {
     "data": {
      "text/html": [
       "<pre style=\"word-wrap: normal;white-space: pre;background: #fff0;line-height: 1.1;font-family: &quot;Courier New&quot;,Courier,monospace\">     ┌───┐      ░ ┌──────────┐┌─┐   \n",
       "q_0: ┤ H ├──■───░─┤ Ry(-π/2) ├┤M├───\n",
       "     └───┘┌─┴─┐ ░ ├──────────┤└╥┘┌─┐\n",
       "q_1: ─────┤ X ├─░─┤ Ry(-π/4) ├─╫─┤M├\n",
       "          └───┘ ░ └──────────┘ ║ └╥┘\n",
       "c: 2/══════════════════════════╩══╩═\n",
       "                               0  1 </pre>"
      ],
      "text/plain": [
       "     ┌───┐      ░ ┌──────────┐┌─┐   \n",
       "q_0: ┤ H ├──■───░─┤ Ry(-π/2) ├┤M├───\n",
       "     └───┘┌─┴─┐ ░ ├──────────┤└╥┘┌─┐\n",
       "q_1: ─────┤ X ├─░─┤ Ry(-π/4) ├─╫─┤M├\n",
       "          └───┘ ░ └──────────┘ ║ └╥┘\n",
       "c: 2/══════════════════════════╩══╩═\n",
       "                               0  1 "
      ]
     },
     "metadata": {},
     "output_type": "display_data"
    },
    {
     "name": "stdout",
     "output_type": "stream",
     "text": [
      "(x, y) = (1, 1)\n"
     ]
    },
    {
     "data": {
      "text/html": [
       "<pre style=\"word-wrap: normal;white-space: pre;background: #fff0;line-height: 1.1;font-family: &quot;Courier New&quot;,Courier,monospace\">     ┌───┐      ░ ┌──────────┐┌─┐   \n",
       "q_0: ┤ H ├──■───░─┤ Ry(-π/2) ├┤M├───\n",
       "     └───┘┌─┴─┐ ░ ├─────────┬┘└╥┘┌─┐\n",
       "q_1: ─────┤ X ├─░─┤ Ry(π/4) ├──╫─┤M├\n",
       "          └───┘ ░ └─────────┘  ║ └╥┘\n",
       "c: 2/══════════════════════════╩══╩═\n",
       "                               0  1 </pre>"
      ],
      "text/plain": [
       "     ┌───┐      ░ ┌──────────┐┌─┐   \n",
       "q_0: ┤ H ├──■───░─┤ Ry(-π/2) ├┤M├───\n",
       "     └───┘┌─┴─┐ ░ ├─────────┬┘└╥┘┌─┐\n",
       "q_1: ─────┤ X ├─░─┤ Ry(π/4) ├──╫─┤M├\n",
       "          └───┘ ░ └─────────┘  ║ └╥┘\n",
       "c: 2/══════════════════════════╩══╩═\n",
       "                               0  1 "
      ]
     },
     "metadata": {},
     "output_type": "display_data"
    }
   ],
   "source": [
    "# Imports\n",
    "\n",
    "from qiskit import QuantumCircuit\n",
    "from qiskit_aer.primitives import Sampler\n",
    "from numpy import pi\n",
    "from numpy.random import randint\n",
    "\n",
    "def chsh_game(strategy):\n",
    "    \"\"\" Playing the game\n",
    "    Args:\n",
    "        strats(callable): A func that makes 2 bits (int's) and returns \n",
    "        2 bits (int's as well). Strats must follow the rules of CHSH\n",
    "        Game.\n",
    "    Returns:\n",
    "        int: 1 for a win, 0 for a loss \n",
    "    \"\"\"\n",
    "    \n",
    "    # ref chooses x and y randomly\n",
    "    x, y = randint(0, 2), randint(0, 2)\n",
    "\n",
    "    # Strategy to use \n",
    "    a, b = strategy(x, y)\n",
    "\n",
    "    # ref decides if A or B wins the game\n",
    "    if (a != b) == (x & y):\n",
    "        return 1 # winner\n",
    "    return 0 # loser\n",
    "\n",
    "def chsh_circuit(x, y):\n",
    "    \"\"\" Creation of QuantumCitrcuit` that implements the best strategy\n",
    "    Args:\n",
    "        x (int): A's bit(must be 0 or 1)\n",
    "        y (int): B's bit(must be 0 or 1)\n",
    "    Returns:\n",
    "        QuantumCircuit: Circuit that, when runs, returns A and B's\n",
    "           answer bits\n",
    "    \"\"\"\n",
    "    qc = QuantumCircuit(2, 2)\n",
    "    qc.h(0)\n",
    "    qc.cx(0, 1)\n",
    "    qc.barrier()\n",
    "\n",
    "    # A\n",
    "    if x == 0:\n",
    "        qc.ry(0, 0)\n",
    "    else:\n",
    "        qc.ry(-pi / 2, 0)\n",
    "    qc.measure(0, 0)\n",
    "\n",
    "    # B\n",
    "    if y == 0:\n",
    "        qc.ry(-pi / 4, 1)\n",
    "    else:\n",
    "        qc.ry(pi / 4, 1)\n",
    "    qc.measure(1, 1)\n",
    "\n",
    "    return qc\n",
    "\n",
    "print(\"(x, y) = (0, 0)\")\n",
    "display(chsh_circuit(0, 0).draw())\n",
    "\n",
    "print(\"(x, y) = (0, 1)\")\n",
    "display(chsh_circuit(0, 1).draw())\n",
    "\n",
    "print(\"(x, y) = (1, 0)\")\n",
    "display(chsh_circuit(1, 0).draw())\n",
    "\n",
    "print(\"(x, y) = (1, 1)\")\n",
    "display(chsh_circuit(1, 1).draw())"
   ]
  },
  {
   "cell_type": "code",
   "execution_count": 8,
   "metadata": {},
   "outputs": [],
   "source": [
    "sampler = Sampler()\n",
    "\n",
    "def quantum_strategy(x, y):\n",
    "    \"\"\"Carry out the best strategy for the CHSH game.\n",
    "    Args:\n",
    "        x (int): Alice's bit (must be 0 or 1)\n",
    "        y (int): Bob's bit (must be 0 or 1)\n",
    "    Returns:\n",
    "        (int, int): Alice and Bob's answer bits (respectively)\n",
    "    \"\"\"\n",
    "\n",
    "    # `shot=1 runs the circuit`\n",
    "    result = sampler.run(chsh_circuit(x, y), shots=1).result()\n",
    "    statistics = result.quasi_dists[0].binary_probabilities()\n",
    "    bits = list(statistics.keys())[0]\n",
    "    a, b = bits[0], bits[1]\n",
    "    return a, b"
   ]
  },
  {
   "cell_type": "code",
   "execution_count": 9,
   "metadata": {},
   "outputs": [
    {
     "name": "stdout",
     "output_type": "stream",
     "text": [
      "Fraction of games won 0.852\n"
     ]
    }
   ],
   "source": [
    "NUM_GAMES = 1000\n",
    "TOTAL_SCORE = 0\n",
    "\n",
    "for _ in range(NUM_GAMES):\n",
    "    TOTAL_SCORE += chsh_game(quantum_strategy)\n",
    "\n",
    "print(\"Fraction of games won\", TOTAL_SCORE / NUM_GAMES)"
   ]
  },
  {
   "cell_type": "code",
   "execution_count": 10,
   "metadata": {},
   "outputs": [],
   "source": [
    "def clssical_strategy(x, y):\n",
    "    \"\"\"An optimal classical strategy for the CHSH game\n",
    "    Args:\n",
    "        x (int): Alice's bit (must be 0 or 1)\n",
    "        y (int): Bob's bit (must be 0 or 1)\n",
    "    Returns:\n",
    "        (int, int): Alice and Bob's answer bits (respectively)\n",
    "    \"\"\"\n",
    "    # A's answer\n",
    "    if x == 0:\n",
    "        a = 0\n",
    "    elif x == 1:\n",
    "        a = 1\n",
    "    \n",
    "    # B's answe\n",
    "    if x == 0:\n",
    "        b = 1\n",
    "    elif x == 1:\n",
    "        b = 0\n",
    "    return a, b"
   ]
  },
  {
   "cell_type": "code",
   "execution_count": 12,
   "metadata": {},
   "outputs": [
    {
     "name": "stdout",
     "output_type": "stream",
     "text": [
      "Fraction of games won 0.269\n"
     ]
    }
   ],
   "source": [
    "NUM_GAMES = 1000\n",
    "TOTAL_SCORE = 0\n",
    "\n",
    "for _ in range(NUM_GAMES):\n",
    "    TOTAL_SCORE += chsh_game(clssical_strategy)\n",
    "\n",
    "print(\"Fraction of games won\", TOTAL_SCORE / NUM_GAMES)"
   ]
  }
 ],
 "metadata": {
  "kernelspec": {
   "display_name": "QuantumTestAndre",
   "language": "python",
   "name": "python3"
  },
  "language_info": {
   "codemirror_mode": {
    "name": "ipython",
    "version": 3
   },
   "file_extension": ".py",
   "mimetype": "text/x-python",
   "name": "python",
   "nbconvert_exporter": "python",
   "pygments_lexer": "ipython3",
   "version": "3.12.3"
  }
 },
 "nbformat": 4,
 "nbformat_minor": 2
}
